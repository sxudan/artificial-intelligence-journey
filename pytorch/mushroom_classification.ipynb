{
 "cells": [
  {
   "cell_type": "code",
   "execution_count": 46,
   "metadata": {},
   "outputs": [],
   "source": [
    "import numpy as np # linear algebra\n",
    "import pandas as pd # data processing, CSV file I/O (e.g. pd.read_csv)\n",
    "from sklearn.preprocessing import LabelEncoder\n",
    "from sklearn.model_selection import train_test_split\n",
    "from torch.utils.data import Dataset, DataLoader\n",
    "import torch\n",
    "import torch.nn as nn\n",
    "import torch.optim as optim"
   ]
  },
  {
   "cell_type": "code",
   "execution_count": 135,
   "metadata": {},
   "outputs": [],
   "source": [
    "data = pd.read_csv('mushroom_cleaned.csv')\n",
    "\n",
    "# preprocess the data\n",
    "label_encoder = LabelEncoder()\n",
    "data['class'] = label_encoder.fit_transform(data['class'])\n",
    "X = data.drop(columns=['class'])\n",
    "y = data['class']"
   ]
  },
  {
   "cell_type": "code",
   "execution_count": 136,
   "metadata": {},
   "outputs": [],
   "source": [
    "X_train, X_test, y_train, y_test = train_test_split(X.values,y.values, test_size=0.2, random_state=42)"
   ]
  },
  {
   "cell_type": "code",
   "execution_count": 137,
   "metadata": {},
   "outputs": [],
   "source": [
    "class CustomDataset(Dataset):\n",
    "    def __init__(self, features, labels):\n",
    "        self.features = torch.tensor(features, dtype=torch.float32)\n",
    "        self.labels = torch.tensor(labels, dtype=torch.float32)\n",
    "\n",
    "    def __len__(self):\n",
    "        return len(self.features)\n",
    "    \n",
    "    def __getitem__(self, idx):\n",
    "        return self.features[idx], self.labels[idx]\n"
   ]
  },
  {
   "cell_type": "code",
   "execution_count": 138,
   "metadata": {},
   "outputs": [],
   "source": [
    "train_dataset = CustomDataset(X_train, y_train)\n",
    "test_dataset = CustomDataset(X_test, y_test)\n"
   ]
  },
  {
   "cell_type": "code",
   "execution_count": 139,
   "metadata": {},
   "outputs": [],
   "source": [
    "device = torch.device('cuda' if torch.cuda.is_available() else 'cpu')"
   ]
  },
  {
   "cell_type": "code",
   "execution_count": 160,
   "metadata": {},
   "outputs": [],
   "source": [
    "class BinaryClassifier(nn.Module):\n",
    "    def __init__(self, input_size):\n",
    "        super(BinaryClassifier, self).__init__()\n",
    "        self.fc1 = nn.Linear(input_size, 64)\n",
    "        self.fc2 = nn.Linear(64, 1)\n",
    "        self.sigmoid = nn.Sigmoid()\n",
    "        self.relu = nn.ReLU()\n",
    "\n",
    "    def forward(self, x):\n",
    "        x = self.relu(self.fc1(x))\n",
    "        x = self.sigmoid(self.fc2(x))\n",
    "        return x\n",
    "        "
   ]
  },
  {
   "cell_type": "code",
   "execution_count": 161,
   "metadata": {},
   "outputs": [],
   "source": [
    "model = BinaryClassifier(input_size=X.shape[-1])\n",
    "criterion = nn.BCELoss()\n",
    "optimizer = optim.Adam(model.parameters(), lr=1e-3)"
   ]
  },
  {
   "cell_type": "code",
   "execution_count": 167,
   "metadata": {},
   "outputs": [
    {
     "name": "stdout",
     "output_type": "stream",
     "text": [
      "Epoch 0....\n",
      "Epoch [1/30], Loss: 0.4905\n",
      "Epoch 1....\n",
      "Epoch [2/30], Loss: 0.4818\n",
      "Epoch 2....\n",
      "Epoch [3/30], Loss: 0.4841\n",
      "Epoch 3....\n",
      "Epoch [4/30], Loss: 0.4804\n",
      "Epoch 4....\n",
      "Epoch [5/30], Loss: 0.4814\n",
      "Epoch 5....\n",
      "Epoch [6/30], Loss: 0.4775\n",
      "Epoch 6....\n",
      "Epoch [7/30], Loss: 0.4753\n",
      "Epoch 7....\n",
      "Epoch [8/30], Loss: 0.4772\n",
      "Epoch 8....\n",
      "Epoch [9/30], Loss: 0.4725\n",
      "Epoch 9....\n",
      "Epoch [10/30], Loss: 0.4732\n",
      "Epoch 10....\n",
      "Epoch [11/30], Loss: 0.4713\n",
      "Epoch 11....\n",
      "Epoch [12/30], Loss: 0.4663\n",
      "Epoch 12....\n",
      "Epoch [13/30], Loss: 0.4694\n",
      "Epoch 13....\n",
      "Epoch [14/30], Loss: 0.4695\n",
      "Epoch 14....\n",
      "Epoch [15/30], Loss: 0.4669\n",
      "Epoch 15....\n",
      "Epoch [16/30], Loss: 0.4650\n",
      "Epoch 16....\n",
      "Epoch [17/30], Loss: 0.4630\n",
      "Epoch 17....\n",
      "Epoch [18/30], Loss: 0.4622\n",
      "Epoch 18....\n",
      "Epoch [19/30], Loss: 0.4617\n",
      "Epoch 19....\n",
      "Epoch [20/30], Loss: 0.4589\n",
      "Epoch 20....\n",
      "Epoch [21/30], Loss: 0.4607\n",
      "Epoch 21....\n",
      "Epoch [22/30], Loss: 0.4596\n",
      "Epoch 22....\n",
      "Epoch [23/30], Loss: 0.4584\n",
      "Epoch 23....\n",
      "Epoch [24/30], Loss: 0.4567\n",
      "Epoch 24....\n",
      "Epoch [25/30], Loss: 0.4618\n",
      "Epoch 25....\n",
      "Epoch [26/30], Loss: 0.4567\n",
      "Epoch 26....\n",
      "Epoch [27/30], Loss: 0.4582\n",
      "Epoch 27....\n",
      "Epoch [28/30], Loss: 0.4566\n",
      "Epoch 28....\n",
      "Epoch [29/30], Loss: 0.4549\n",
      "Epoch 29....\n",
      "Epoch [30/30], Loss: 0.4558\n"
     ]
    }
   ],
   "source": [
    "# Training loop\n",
    "\n",
    "num_epochs = 30\n",
    "batch_size = 32\n",
    "\n",
    "train_loader = DataLoader(train_dataset, batch_size=batch_size, shuffle=True)\n",
    "\n",
    "best_acc = - np.inf\n",
    "best_weights = None\n",
    "\n",
    "for epoch in range(num_epochs):\n",
    "    print(f'Epoch {epoch}....')\n",
    "    model.train()\n",
    "    running_loss = 0.0\n",
    "\n",
    "    for inputs, labels in train_loader:\n",
    "        outputs = model(inputs)\n",
    "        predicted = outputs.squeeze()\n",
    "        \n",
    "        loss = criterion(outputs.squeeze(), labels.float())\n",
    "        # backward pass\n",
    "        optimizer.zero_grad()\n",
    "        loss.backward()\n",
    "        # update the weights\n",
    "        optimizer.step()\n",
    "\n",
    "        # acc = (outputs.round() == labels).float().mean()\n",
    "        # print(acc)\n",
    "        running_loss += loss.item() * inputs.size(0)\n",
    "    \n",
    "    epoch_loss = running_loss / len(train_dataset)\n",
    "    print(f\"Epoch [{epoch+1}/{num_epochs}], Loss: {epoch_loss:.4f}\")"
   ]
  },
  {
   "cell_type": "code",
   "execution_count": 169,
   "metadata": {},
   "outputs": [
    {
     "name": "stdout",
     "output_type": "stream",
     "text": [
      "Accuracy on test set: 0.7701\n"
     ]
    }
   ],
   "source": [
    "# Evaluation\n",
    "model.eval()\n",
    "test_loader = DataLoader(test_dataset, batch_size=batch_size, shuffle=False)\n",
    "correct = 0\n",
    "total = 0\n",
    "\n",
    "with torch.no_grad():\n",
    "    for inputs, labels in test_loader:\n",
    "        outputs = model(inputs)\n",
    "        predicted = (outputs.squeeze() >= 0.5).long()  # Convert probabilities to binary predictions\n",
    "        total += labels.size(0)\n",
    "        correct += (predicted == labels).sum().item()\n",
    "\n",
    "accuracy = correct / total\n",
    "print(f\"Accuracy on test set: {accuracy:.4f}\")"
   ]
  },
  {
   "cell_type": "code",
   "execution_count": 179,
   "metadata": {},
   "outputs": [
    {
     "name": "stdout",
     "output_type": "stream",
     "text": [
      "tensor(1)\n"
     ]
    }
   ],
   "source": [
    "test_x = torch.tensor([611,5,1,6,0.7842865255228345,673,12,0.9431945538974952])\n",
    "test_y = model(test_x)\n",
    "p = (test_y.squeeze() >= 0.5).long()\n",
    "print(p)"
   ]
  }
 ],
 "metadata": {
  "kernelspec": {
   "display_name": "Python 3",
   "language": "python",
   "name": "python3"
  },
  "language_info": {
   "codemirror_mode": {
    "name": "ipython",
    "version": 3
   },
   "file_extension": ".py",
   "mimetype": "text/x-python",
   "name": "python",
   "nbconvert_exporter": "python",
   "pygments_lexer": "ipython3",
   "version": "3.8.18"
  }
 },
 "nbformat": 4,
 "nbformat_minor": 2
}
